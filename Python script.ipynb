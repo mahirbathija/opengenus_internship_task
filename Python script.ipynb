{
 "cells": [
  {
   "cell_type": "code",
   "execution_count": 22,
   "metadata": {},
   "outputs": [],
   "source": [
    "import urllib.request as urlr\n",
    "import requests\n",
    "from bs4 import BeautifulSoup as bs\n",
    "from urllib.parse import urlparse"
   ]
  },
  {
   "cell_type": "code",
   "execution_count": 27,
   "metadata": {},
   "outputs": [
    {
     "name": "stdout",
     "output_type": "stream",
     "text": [
      "Enter URl : http://google.com\n",
      "Size of webpage: 11353 bytes\n",
      "Total links pointing to same domain =  0\n"
     ]
    }
   ],
   "source": [
    "url_input=input('Enter URL : ')\n",
    "findSizeAndLinks(url_input)"
   ]
  },
  {
   "cell_type": "code",
   "execution_count": 28,
   "metadata": {},
   "outputs": [],
   "source": [
    "def findSizeAndLinks(url):\n",
    "    request = urlr.urlopen(\"http://google.com\")\n",
    "    print(\"Size of webpage: \"+ str(len(request.read())) + \" bytes\")\n",
    "    url_p=urlparse(url)\n",
    "    domain='{uri.scheme}://{uri.netloc}/'.format(uri=url_p)\n",
    "    resp=requests.get(url)\n",
    "    soup=bs(resp.text,'html.parser')\n",
    "    r=0\n",
    "    for link in soup.find_all('a'):\n",
    "        temp=link.get('href')\n",
    "        if temp is not None and domain in temp:\n",
    "            r=r+1\n",
    "    print(\"Total links pointing to same domain = \",r)"
   ]
  },
  {
   "cell_type": "code",
   "execution_count": null,
   "metadata": {},
   "outputs": [],
   "source": []
  }
 ],
 "metadata": {
  "kernelspec": {
   "display_name": "Python 3",
   "language": "python",
   "name": "python3"
  },
  "language_info": {
   "codemirror_mode": {
    "name": "ipython",
    "version": 3
   },
   "file_extension": ".py",
   "mimetype": "text/x-python",
   "name": "python",
   "nbconvert_exporter": "python",
   "pygments_lexer": "ipython3",
   "version": "3.6.5"
  }
 },
 "nbformat": 4,
 "nbformat_minor": 2
}
